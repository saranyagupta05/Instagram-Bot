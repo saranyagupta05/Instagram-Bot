{
 "cells": [
  {
   "cell_type": "code",
   "execution_count": 1,
   "metadata": {},
   "outputs": [],
   "source": [
    "import argparse\n",
    "import matplotlib.pyplot as plt\n",
    "import pandas as pd\n",
    "import numpy as np\n",
    "from selenium import webdriver\n",
    "import time\n",
    "from selenium.common.exceptions import NoSuchElementException\n",
    "from selenium.common.exceptions import StaleElementReferenceException\n",
    "from selenium.common.exceptions import TimeoutException\n",
    "from selenium.webdriver.support.ui import WebDriverWait\n",
    "from selenium.webdriver.support import expected_conditions as EC\n",
    "from selenium.webdriver.common.by import By"
   ]
  },
  {
   "cell_type": "code",
   "execution_count": 2,
   "metadata": {},
   "outputs": [],
   "source": [
    "from selenium import webdriver\n",
    "driver = webdriver.Chrome(r\"C:\\Users\\Saranya Gupta\\Downloads\\chromedriver_win32\\chromedriver\")\n",
    "driver.maximize_window()"
   ]
  },
  {
   "cell_type": "code",
   "execution_count": 3,
   "metadata": {},
   "outputs": [],
   "source": [
    "driver.get('https://www.instagram.com')"
   ]
  },
  {
   "cell_type": "code",
   "execution_count": 4,
   "metadata": {},
   "outputs": [],
   "source": [
    "Sample_username = \"SAMPLE USERNAME\"\n",
    "Sample_password = \"SAMPLE PASSWORD\"\n",
    "username = driver.find_element_by_name('username')\n",
    "username.send_keys(Sample_username)\n",
    "password = driver.find_element_by_name('password') \n",
    "password.send_keys(Sample_password)\n",
    "time.sleep(1)\n",
    "\n",
    "login = driver.find_element_by_class_name('sqdOP')\n",
    "login.submit()"
   ]
  },
  {
   "cell_type": "code",
   "execution_count": 5,
   "metadata": {},
   "outputs": [],
   "source": [
    "# turn on notifications prompt will appear and click \"not now\"\n",
    "WebDriverWait(driver, 10).until(EC.presence_of_element_located((By.XPATH,'//button[contains(@class, \"HoLwm\")]')))\n",
    "driver.find_element_by_xpath('//button[contains(@class, \"HoLwm\")]').click()"
   ]
  },
  {
   "cell_type": "markdown",
   "metadata": {},
   "source": [
    "# 1. Now your friend has followed a lot of different food bloggers, he needs to analyse the habits of these bloggers.\n",
    "## 1) From the list of instagram handles you obtained when you searched ‘food’ in previous project. Open the first 10 handles and find the top 5 which have the highest number of followers"
   ]
  },
  {
   "cell_type": "code",
   "execution_count": 14,
   "metadata": {},
   "outputs": [],
   "source": [
    "#searching for \"food\" in the search bar and storing the top 10 usernames in a list\n",
    "WebDriverWait(driver, 10).until(EC.presence_of_element_located((By.XPATH,'//span[contains(@class, \"TqC_a\")]')))\n",
    "time.sleep(2)\n",
    "driver.find_element_by_xpath('//span[contains(@class, \"TqC_a\")]').click()\n",
    "driver.find_element_by_xpath('//input[contains(@class, \"XTCLo\")]').send_keys('food')\n",
    "WebDriverWait(driver, 10).until(EC.presence_of_element_located((By.XPATH, '//span[@class=\"Ap253\"]')))\n",
    "time.sleep(3)"
   ]
  },
  {
   "cell_type": "code",
   "execution_count": 15,
   "metadata": {},
   "outputs": [],
   "source": [
    "count=0\n",
    "users=[] # list of top 10 users will be stored in this list.\n",
    "\n",
    "for i in driver.find_elements_by_xpath('//span[@class=\"Ap253\"]'):\n",
    "    user_n=i.get_attribute('innerHTML')\n",
    "    if user_n[0]!='#' and count<10 and user_n != \"food\":\n",
    "        users.append(i.get_attribute('innerHTML'))\n",
    "        count+=1\n",
    "driver.find_element_by_xpath('//div[contains(@class, \"coreSpriteSearchClear\")]').click()\n",
    "\n",
    "followers=[] # list of followers of top 10 users\n",
    "\n",
    "\n",
    "for user in users:\n",
    "    driver.find_element_by_xpath('//span[contains(@class, \"TqC_a\")]').click()\n",
    "    driver.find_element_by_xpath('//input[contains(@class, \"XTCLo\")]').send_keys(user)\n",
    "    driver.implicitly_wait(5)\n",
    "    # checking the condition for the insta handle rather than clicking on the hashtag handle\n",
    "    for i in driver.find_elements_by_class_name('Ap253'):\n",
    "        if i.get_attribute('innerHTML')== user:\n",
    "            i.click()\n",
    "            break\n",
    "    time.sleep(1)\n",
    "    WebDriverWait(driver, 10).until(EC.presence_of_element_located((By.XPATH, '//a[@class=\"-nal3 \"]/span[@class=\"g47SY \"]')))\n",
    "    followers.append(driver.find_element_by_xpath('//a[@class=\"-nal3 \"]/span[@class=\"g47SY \"]').get_attribute('innerHTML'))\n",
    "    time.sleep(3)"
   ]
  },
  {
   "cell_type": "code",
   "execution_count": 16,
   "metadata": {},
   "outputs": [
    {
     "data": {
      "text/plain": [
       "['foodtalkindia',\n",
       " 'foodys',\n",
       " 'dilsefoodie',\n",
       " 'foodiesreunion',\n",
       " 'food_all_time',\n",
       " 'foodgod',\n",
       " 'foodrush.recipe',\n",
       " 'fooddiggers13',\n",
       " 'food.darzee',\n",
       " 'foodie_incarnate']"
      ]
     },
     "execution_count": 16,
     "metadata": {},
     "output_type": "execute_result"
    }
   ],
   "source": [
    "users"
   ]
  },
  {
   "cell_type": "code",
   "execution_count": 17,
   "metadata": {},
   "outputs": [
    {
     "data": {
      "text/plain": [
       "['292k', '9.6m', '370k', '500', '592', '3.5m', '660k', '274', '67.6k', '157k']"
      ]
     },
     "execution_count": 17,
     "metadata": {},
     "output_type": "execute_result"
    }
   ],
   "source": [
    "followers"
   ]
  },
  {
   "cell_type": "code",
   "execution_count": 18,
   "metadata": {},
   "outputs": [
    {
     "name": "stdout",
     "output_type": "stream",
     "text": [
      "foodys\n",
      "foodgod\n",
      "foodrush.recipe\n",
      "dilsefoodie\n",
      "foodtalkindia\n"
     ]
    }
   ],
   "source": [
    "# followers list contains no. of followers as a string and we need to convert this string to int\n",
    "for i in range(len(followers)):\n",
    "    if 'k' in followers[i]:\n",
    "        followers[i]=float(followers[i][:-1])*1000\n",
    "    elif 'm' in followers[i]:\n",
    "        followers[i] = float(followers[i][:-1])*1000000    \n",
    "    else:\n",
    "        followers[i]=int(\"\".join(followers[i].split()))\n",
    "\n",
    "# converting from float to integer and making numpy array of followers and users\n",
    "followers=np.array(followers, dtype='int')\n",
    "users=np.array(users)\n",
    "\n",
    "#sorted in descending order based on followers\n",
    "users=users[np.argsort(followers)][::-1]\n",
    "followers=followers[np.argsort(followers)][::-1]\n",
    "\n",
    "#printing top 5 \n",
    "top_5=[]\n",
    "for i in range(5):\n",
    "    print(users[i])\n",
    "    top_5.append(users[i]) #top_5 is a list of users with highest number of followers among those top 10."
   ]
  },
  {
   "cell_type": "markdown",
   "metadata": {},
   "source": [
    "## 2) Now Find the number of posts these handles have done in the previous 3 days."
   ]
  },
  {
   "cell_type": "code",
   "execution_count": 19,
   "metadata": {},
   "outputs": [],
   "source": [
    "# returning to home page\n",
    "home_btn = driver.find_element_by_xpath('//div[contains(@class,\"Fifk5\")]/div/a')\n",
    "home_btn.click()"
   ]
  },
  {
   "cell_type": "code",
   "execution_count": 20,
   "metadata": {},
   "outputs": [
    {
     "name": "stdout",
     "output_type": "stream",
     "text": [
      "Handles and their respective Number of posts in past 3 days :-\n",
      "\n",
      "foodys 0\n",
      "foodgod 1\n",
      "foodrush.recipe 0\n",
      "dilsefoodie 5\n",
      "foodtalkindia 3\n"
     ]
    }
   ],
   "source": [
    "# a dictionary for the number of posts in past 3 days from the respective users and iterating to the list of top_5 and \n",
    "# finding the post from previous 3 days\n",
    "num_of_posts_in_past_3_days_dict = {}\n",
    "\n",
    "for username in top_5:\n",
    "    wait = WebDriverWait(driver,10)\n",
    "    search_bar_icon = wait.until(EC.presence_of_element_located((By.XPATH,\"//div[contains(@class,'_0aCwM')]/div/div/span\")))\n",
    "    search_bar_icon.click()\n",
    "\n",
    "    wait = WebDriverWait(driver,10)\n",
    "    clear_search_content = wait.until(EC.presence_of_element_located((By.XPATH,\"//div[contains(@class,'coreSpriteSearchClear')]\")))\n",
    "    clear_search_content.click()\n",
    "    \n",
    "    wait = WebDriverWait(driver,10)\n",
    "    search_bar = wait.until(EC.presence_of_element_located((By.XPATH,\"//input[contains(@class,'x3qfX')]\")))\n",
    "    search_bar.send_keys(username)\n",
    "    \n",
    "    wait = WebDriverWait(driver,10)\n",
    "    first_suggestion = wait.until(EC.presence_of_element_located((By.XPATH,\"//div[@class='fuqBx']/a/div/div[2]/div/span\")))\n",
    "    first_suggestion.click()\n",
    "\n",
    "    \n",
    "    num_of_posts_in_past_3_days = 0\n",
    "    \n",
    "    wait = WebDriverWait(driver,20)\n",
    "    first_post_photo = wait.until(EC.presence_of_element_located((By.XPATH,\"//div[@class=' _2z6nI']/article/div/div/div/div/a/div/div[2]\")))\n",
    "    first_post_photo.click()\n",
    "    \n",
    "    while True:\n",
    "        WebDriverWait(driver, 10).until(EC.presence_of_element_located((By.XPATH, '//time[contains(@class, \"Nzb55\")]')))\n",
    "        time_string=driver.find_element_by_xpath('//time[contains(@class, \"Nzb55\")]').get_attribute('innerHTML')\n",
    "        if time_string[-1] in ['h', 's']:\n",
    "            num_of_posts_in_past_3_days+=1\n",
    "        elif time_string[-1]=='d' and int(time_string[:-1])<=3:\n",
    "            num_of_posts_in_past_3_days+=1\n",
    "        else:\n",
    "            break\n",
    "        wait = WebDriverWait(driver,20)\n",
    "        next_post_button = wait.until(EC.presence_of_element_located((By.XPATH,\"//a[contains(@class,'coreSpriteRightPaginationArrow')]\")))\n",
    "        next_post_button.click()\n",
    "        \n",
    "    num_of_posts_in_past_3_days_dict[username] = num_of_posts_in_past_3_days\n",
    "    \n",
    "    time.sleep(2)\n",
    "    close_button = driver.find_element_by_class_name('yiMZG')\n",
    "    close_button.click()\n",
    "    \n",
    "print(\"Handles and their respective Number of posts in past 3 days :-\")\n",
    "print()\n",
    "for i in range(len(num_of_posts_in_past_3_days_dict)): \n",
    "    print([*num_of_posts_in_past_3_days_dict.keys()][i] ,[*num_of_posts_in_past_3_days_dict.values()][i])\n",
    "    \n",
    "\n"
   ]
  },
  {
   "cell_type": "markdown",
   "metadata": {},
   "source": [
    "## 3) Depict this information using a suitable graph."
   ]
  },
  {
   "cell_type": "code",
   "execution_count": 21,
   "metadata": {},
   "outputs": [],
   "source": [
    "# list contaning the values of no. of posts extracted from the dictionary \n",
    "no_of_posts = []\n",
    "for i in num_of_posts_in_past_3_days_dict:\n",
    "    no_of_posts.append(num_of_posts_in_past_3_days_dict[i])"
   ]
  },
  {
   "cell_type": "code",
   "execution_count": 22,
   "metadata": {},
   "outputs": [
    {
     "data": {
      "text/plain": [
       "[0, 1, 0, 5, 3]"
      ]
     },
     "execution_count": 22,
     "metadata": {},
     "output_type": "execute_result"
    }
   ],
   "source": [
    "no_of_posts"
   ]
  },
  {
   "cell_type": "code",
   "execution_count": 29,
   "metadata": {},
   "outputs": [],
   "source": [
    "c = ['red','lime','blue','magenta','black','cyan','green','teal','aqua','gray']"
   ]
  },
  {
   "cell_type": "code",
   "execution_count": 33,
   "metadata": {},
   "outputs": [
    {
     "data": {
      "text/plain": [
       "<Figure size 432x288 with 0 Axes>"
      ]
     },
     "metadata": {},
     "output_type": "display_data"
    },
    {
     "data": {
      "image/png": "[encoded data removed]",
      "text/plain": [
       "<Figure size 720x504 with 1 Axes>"
      ]
     },
     "metadata": {
      "needs_background": "light"
     },
     "output_type": "display_data"
    },
    {
     "data": {
      "text/plain": [
       "<Figure size 432x288 with 0 Axes>"
      ]
     },
     "metadata": {},
     "output_type": "display_data"
    },
    {
     "data": {
      "image/png": "[encoded data removed]",
      "text/plain": [
       "<Figure size 720x504 with 1 Axes>"
      ]
     },
     "metadata": {
      "needs_background": "light"
     },
     "output_type": "display_data"
    }
   ],
   "source": [
    "# plotting a graph between those 10 users and the number of followers\n",
    "plt.subplots(0, 0)\n",
    "plt.figure(figsize=(10, 7))\n",
    "plt.bar(users, followers, color= c)\n",
    "plt.xticks(rotation=40, size=12)\n",
    "plt.yticks(size=12)\n",
    "plt.title('Users versus number of followers', size=12)\n",
    "plt.xlabel('Users', size=12)\n",
    "plt.ylabel('Followers', size=12)\n",
    "plt.show()\n",
    "\n",
    "#graph between top 5 users and the number of posts\n",
    "plt.subplots(0, 1)\n",
    "plt.figure(figsize=(10, 7))\n",
    "plt.bar(top_5, no_of_posts, color = c)\n",
    "plt.xticks(rotation=40, size=12)\n",
    "plt.yticks(size=12)\n",
    "plt.title('Users versus number of posts', size=12)\n",
    "plt.xlabel('Users', size=12)\n",
    "plt.ylabel('Number of Posts', size=12)\n",
    "plt.show()"
   ]
  },
  {
   "cell_type": "markdown",
   "metadata": {},
   "source": [
    "# 2. Your friend also needs a list of hashtags that he should use in his posts.\n",
    "## 1)Open the 5 handles you obtained in the last question, and scrape the content of the first 10 posts of each handle."
   ]
  },
  {
   "cell_type": "code",
   "execution_count": 34,
   "metadata": {},
   "outputs": [],
   "source": [
    "home_btn = driver.find_element_by_xpath('//div[contains(@class,\"Fifk5\")]/div/a')\n",
    "home_btn.click()"
   ]
  },
  {
   "cell_type": "code",
   "execution_count": 35,
   "metadata": {},
   "outputs": [],
   "source": [
    "#now we will visit each page and scrape the content and hashtags from the first 10 posts and store them in a separate list.\n",
    "content=[]\n",
    "hashtags=[]\n",
    "\n",
    "for user in top_5:\n",
    "    wait = WebDriverWait(driver,10)\n",
    "    search_bar_icon = wait.until(EC.presence_of_element_located((By.XPATH,\"//div[contains(@class,'_0aCwM')]/div/div/span\")))\n",
    "    search_bar_icon.click()\n",
    "\n",
    "    wait = WebDriverWait(driver,10)\n",
    "    clear_search_content = wait.until(EC.presence_of_element_located((By.XPATH,\"//div[contains(@class,'coreSpriteSearchClear')]\")))\n",
    "    clear_search_content.click()\n",
    "    \n",
    "    wait = WebDriverWait(driver,10)\n",
    "    search_bar = wait.until(EC.presence_of_element_located((By.XPATH,\"//input[contains(@class,'x3qfX')]\")))\n",
    "    search_bar.send_keys(user)\n",
    "    \n",
    "    wait = WebDriverWait(driver,10)\n",
    "    first_suggestion = wait.until(EC.presence_of_element_located((By.XPATH,\"//div[@class='fuqBx']/a/div/div[2]/div/span\")))\n",
    "    first_suggestion.click()\n",
    "    \n",
    "    count = 0\n",
    "    \n",
    "    wait = WebDriverWait(driver,20)\n",
    "    first_post_photo = wait.until(EC.presence_of_element_located((By.XPATH,\"//div[@class=' _2z6nI']/article/div/div/div/div/a/div/div[2]\")))\n",
    "    first_post_photo.click()\n",
    "    \n",
    "    while True:\n",
    "        WebDriverWait(driver, 10).until(EC.presence_of_element_located((By.XPATH, '//div[contains(@class, \"C4VMK\")]')))\n",
    "        content.append(driver.find_element_by_xpath('//div[contains(@class, \"C4VMK\")]/span').get_attribute('textContent'))\n",
    "        for hashes in driver.find_elements_by_xpath('//div[contains(@class, \"C4VMK\")]/span/a'):\n",
    "            hashtags.append(hashes.get_attribute('innerHTML'))\n",
    "        count+=1\n",
    "        if count>=10:\n",
    "            break\n",
    "        wait = WebDriverWait(driver,20)\n",
    "        next_post_button = wait.until(EC.presence_of_element_located((By.XPATH,\"//a[contains(@class,'coreSpriteRightPaginationArrow')]\")))\n",
    "        next_post_button.click()\n",
    "   \n",
    "    time.sleep(2)\n",
    "    close_button = driver.find_element_by_class_name('yiMZG')\n",
    "    close_button.click()"
   ]
  },
  {
   "cell_type": "code",
   "execution_count": 38,
   "metadata": {},
   "outputs": [
    {
     "name": "stdout",
     "output_type": "stream",
     "text": [
      "The babka cookie 🍪built with: layers of chocolate cookie, sugar cookie, Nutella and chocolate chips! 🥰 THIS IS BEAUTIFUL! I gotta give this masterpiece 5/5 drools 🤤🤤🤤🤤🤤 Tag someone who needs to see this! @wendykou\n",
      "*********************************************************************************************************************\n",
      "\n",
      "Fried Mac N Cheese Balls 😍👌Yes please. These are perfect for quarantine season. How many drools would you give this? I give it 4/5 🤤🤤🤤🤤 What recipes have you guys been making at home? @foodyfetish\n",
      "*********************************************************************************************************************\n",
      "\n",
      "Curry Recipes 🔥🤯 @twistedWho else is a huge curry fan? It’s one of my favorite spices! I gotta give this 4/5 drools 🤤🤤🤤🤤 what would you give it?\n",
      "*********************************************************************************************************************\n",
      "\n",
      "Pan-Seared Tuna 🤤 wow does this look delicious it what?The second I saw this video I could instantly taste it through the phone 🤣 how many drools would you give this? I give it 4/5 drools 🤤🤤🤤🤤 @foodyfetish\n",
      "*********************************************************************************************************************\n",
      "\n",
      "This strawberry and banana concrete 🍦🍓🍌from @nielsensfrozencustardlv how many drools would you give this? I gotta give it 4/5 🤤🤤🤤🤤 🎥: @thelasvegasfoodie\n",
      "*********************************************************************************************************************\n",
      "\n",
      "Spaghetti Meatball Lasagna 🍝🔥 @twistedWhat recipes are you guys making at home this week? Comment below! I give this 3/5 drools 🤤🤤🤤 what would you give it? 🎶: @onedirection #didnti #music\n",
      "*********************************************************************************************************************\n",
      "\n",
      "PUPCAKES!!! HAPPY NATIONAL PUPPY DAY!! 🐶How incredibly cute are these pupcakes from @lamannabakery 🥰 I gotta give this 5/5 drools 🤤🤤🤤🤤🤤 what would you give it? Comment below! #nationalpuppyday\n",
      "*********************************************************************************************************************\n",
      "\n",
      "Korean BBQ! Who’s a fan? I could sit there for hours grillin up meats and veggies! 🔥 how many drools would you give this? I gotta give it 4/5 🤤🤤🤤🤤! 📍: @masterkimslv 🎥: @thelasvegasfoodie\n",
      "*********************************************************************************************************************\n",
      "\n",
      "Peanut butter & Nutella S’mores Dip.. holy sh*t!!!! @reeses peanut butter cups are one of my absolute favorite candy!! 🥰 what’s your favorite candy!? I gotta give this 5/5 drools 🤤🤤🤤🤤🤤 how many would you give it!!!? Comment below! @succulentbite\n",
      "*********************************************************************************************************************\n",
      "\n",
      "All I need is pictured here 🤤 📍: @philsbbq 📸: @goodeatzco I gotta give this 5/5 drools cause that’s the mood I’m in 🤤🤤🤤🤤🤤 how many would you give it?\n",
      "*********************************************************************************************************************\n",
      "\n",
      "My motivation to get through the quarantine? Chocolate deliciousness⁣⁣⁣⁣⁣⁣⁣⁣⁣⁣📹 @carlsdonutslv\n",
      "*********************************************************************************************************************\n",
      "\n",
      "Just last week 😢 @mylesprime112 @fatjoe @therealnoreaga\n",
      "*********************************************************************************************************************\n",
      "\n",
      "We all will be eating cake like this soon!! We will also get through this together ⁣⁣📹 @fegourmet\n",
      "*********************************************************************************************************************\n",
      "\n",
      "UPDATE: STAY HOME!!!!! PLEASE SUPPORT your local businesses and restaurants, they need your support NOW!!!\n",
      "*********************************************************************************************************************\n",
      "\n",
      "Which one would you eat first??\n",
      "*********************************************************************************************************************\n",
      "\n",
      "Mozzarella babies! What should we name them??⁣⁣⁣⁣📹 @caseificioponticorvo\n",
      "*********************************************************************************************************************\n",
      "\n",
      "NOOO WAY!! LOOK at this SPIN!!\n",
      "*********************************************************************************************************************\n",
      "\n",
      "New 🎂...thanks @djkhaled @pharrell @davegrutman for a Take two on the bday cake!\n",
      "*********************************************************************************************************************\n",
      "\n",
      "ITS ALL MY FAULT!! 😓💔\n",
      "*********************************************************************************************************************\n",
      "\n",
      "Chicago Pre-bday celebration with friends and @frangelico 🙌👌#Ad21+ Enjoying a BIRTHDAY CAKE shot and it somehow actually taste like cake?! #ThatsNuts ⁣⁣ ⁣⁣🎂 Shot Recipe⁣⁣1 Part Frangelico⁣⁣1 Part Skyy Citrus Vodka⁣⁣Chase with sugar coated lemon\n",
      "*********************************************************************************************************************\n",
      "\n",
      "Simple to make and loved by all, this Indo-Chinese starter recipe is PURE GOLD.Ingredients:8 Bread slices2 Potatoes2 tbsp Spring onion2 tbsp Corn2 tbsp Capsicum1 tsp GInger garlic paste1 tsp green chilli1 tsp Soya Sauce3 tbsp Sesame seeds½ tsp SaltOIl for frying2 tbsp onion1 tbsp Schezwan chutney1 tbsp Refined flour¼ cup WaterMethod:Mix together the potatoes,vegetables,sauces and salt.—Cut a piece of bread in a circular shape. Add some of the mixture on top.—Make a mixture of flour and water and apply some of it on the bread.—Sprinkle sesame seeds on top.—Shallow fry in oil till crisp and brown.—Enjoy with ketchup!#foodrush #appetizer #chinesefood #spicy #easyrecipes #bread #schezwan\n",
      "*********************************************************************************************************************\n",
      "\n",
      "Treat your family and friends to Mawa gujiyas this Holi and receive colourful compliments !Happy Holi !Ingredients:2 cups Refined flour¼ cup Clarified butter½ tsp Salt1 tsp Clarified butter100g Unsweetened Khoa/Mawa2 tbsp Cashewnuts1 tbsp Pistachios¼ cup Dessicated coconut1 tbsp Raisins½ cup Powdered sugar¼ tsp Cardamom powderOil  for frying½ cup waterMethod:In a bowl, mix together flour,salt and ghee. Distribute the ghee evenly throughout the flour. Lastly add some water(½ cup) and bring it together to a stiff dough. Cover with a damp cloth and rest for 30 mins.—In a pan, add 1 tsp ghee and add the khoa. Saute it well for 3-4 minutes. —Add the cashews, pistachios,coconut and raisins. Stir well for a minute or two and keep it aside to cool.—Once it cools down, add the powdered sugar and cardamom and mix well.—Take a small dough ball and roll it to 1 mm thickness. Cut into a perfect circle using a bowl or cookie cutter. —Apply water to the edges. Add some filling on one side and fold the other side over.—Press the edges and seal them together. Crimp the edges together as shown in the video.—Fry on low flame for 5-6 minutes or until they become golden brown!#foodrush #holi #sweet #dryfruits #traditionalfood #festivalofcolours\n",
      "*********************************************************************************************************************\n",
      "\n",
      "This desi-style Spinach pasta is definitely a winner with kids and elders alike. Great way to feed vegetables to kids, don’t you think?Ingredients:1 cup Pasta6 cups Water1 tsp Oil1 tsp Salt1 tbsp Butter6-7 Garlic cloves½ cup Onion½ cup Tomato½ tsp Salt¾ cup Spinach Puree¼ cup Fresh Cream½ tsp Pasta Seasoning½ cup Boiled Corn1 tsp Chili Flakes30 g CheeseMethod:Boil the pasta in salted water till al dente.—In a pan, take butter, add garlic, onion, tomato and salt. Cook well. —Add the spinach puree and cook till well done. Add the corn.—Add the cream, seasoning and chilli flakes Later, add in the boiled pasta and mix well.—Garnish with cheese and serve with love!#foodrush #pasta #spinach #spinachpasta #veggiepasta #palak #pastarecipe #greenpasta\n",
      "*********************************************************************************************************************\n",
      "\n",
      "What if you realize it takes less than 15 minutes to make pani-puri at home in THREE FLAVOURS?Yes, it’s true.Presenting Pani Puri in 3 ways, just for you.Tag all Pani-puri lovers!Ingredients:Hajma Hajam Pani:1/2 cup Tamarind water½ cup Powdered Sugar1 tsp Grated ginger2 tsp Roasted jeera powder1 tsp Black salt1 tsp Salt1 tsp Red chilli powder1 tsp Asafoetida2.5 cups WaterJeera Pani:2 tbsp roasted jeera powder1 tsp black salt2 tsp chat masala1 tsp salt7-8 mint leaves1/2 lemon2.5 cups  waterLehsun Pani:8-9 garlic cloves1 tsp chat masala1/2 tsp asafoetida1 tsp black salt2 tsp red chilli powder1 tsp salt2.5 cups  water1/2 lemonMethod:Hajma Hajam Pani, Jeera Pani: Mix together all ingredients. Refrigerate.—Lehsun pani: Mix all ingredients except water and grind to a paste. Later, add water. Refrigerate.—Mix and match with your favorite fillings- aloo,moong,boondi,ragda- the choice is yours!#foodrush #panipuri #streetfoodofindia #chaat\n",
      "*********************************************************************************************************************\n",
      "\n",
      "The beautiful flavour of caramelized garlic in this simple Indo-Chinese dish is sure to keep you asking for more.Ingredients:150g Hakka Noodles2 tbsp Oil10-12 Garlic Cloves1 Star Anise1 tsp Chilli Flakes¼ cup Capsicum¼ cup Carrot3 tbsp Spring onion1 tbsp Soya Sauce1 tbsp Vinegar1 tsp Black Pepper Powder1 tsp Salt ¼ cup Spring Onions6 cups waterMethod:Boil noodles in 6 cups water with salt and oil.—Take oil in a wok, add the garlic and brown it. Keep some aside after browning. Add the star anise and chilli flakes.—Add the vegetables and saute for a minute. Add the salt, pepper, soya sauce and vinegar.—Add the boiled noodles, spring onion greens and toss together.—Add the browned garlic and serve with love!#foodrush #noodles #chinesefood #garlic #easyrecipes\n",
      "*********************************************************************************************************************\n",
      "\n",
      "This dish with bright green methi and mutter dotting a delectable smooth white gravy is much more than a treat to the eyes. Ready in less than 30 mins, it makes for a perfect weeknight dinner. Ingredients:1 tsp Cumin seeds8-10 Cashewnuts½  cup Onions1 tsp Garlic1 tsp Ginger2 tsp Green chillies2 tbsp Clarified butter1 Bay leaf2 Cardamom1 cup fenugreek leaves1 cup Boiled Green Peas1 cup water½ cup Fresh cream1.5 tsp salt1 tbsp sugarMethod:Grind together cumin seeds, onion, cashewnuts, ginger, garlic and green chillies to a smooth paste.—Take ghee in a pan and add the paste. Saute till it gets cooked and it stops sticking to the pan.—Add methi leaves and saute for a few seconds. Add water and the boiled peas.—Let it boil. Once the gravy thickens, add the salt and sugar. Add the cream in and mix well.—Simmer for a couple of minutes and serve hot with rotis! #foodrush #fenugreek #creamy #peas #desikhana #punjabi\n",
      "*********************************************************************************************************************\n",
      "\n",
      "Bring home some lip smacking Mumbai street-style South Indian food with this recipe. Presenting Jini dosa, FoodRush style. Ingredients:500g Dosa batter2 tbsp Butter¼ cup Onion¼ cup Carrot¼ cup Capsicum½ tsp red chilli powder¼ cup french beans 1 tbsp Tomato ketchup½ tsp garam masala½ tsp Chat masala1 tbsp Schezwan sauce100g cheeseMethod:Take butter in a pan. Add the vegetables in and saute.—Add the sauces and masalas and crush the vegetables slightly using a potato masher.—Spread out dosa batter on a tava and let it cool partially. Add butter on it and spread out the mixture over it thinly.—Add cheese and cook till cheese melts. Cut into strips and roll them up.—Serve with chutney!#foodrush #dosa #southindianfood #cheese #streetfood\n",
      "*********************************************************************************************************************\n",
      "\n",
      "Aloo BiryaniTender potatoes with a flavourful gravy and aromatic rice- You wouldn't believe a vegetarian biryani could be this yummy!Try it and find out for yourself !Ingredients:1 cup Basmati rice4 tbsp Oil1 tsp Oil (in the rice)8-10 Baby Potatoes2 Bay leaves3 Cloves1 inch piece of Cinnamon3 Cardamoms1 Star anise4-5 Black peppercorns1 Black cardamom4 tbsp Clarified butter3 Onions2 Tomatoes1 cup Curd½ tsp Turmeric powder2 tsp Ginger-garlic paste2 tsp Red chilli powder1.5 tsp Salt1 tsp Garam masala2 tbsp chopped Coriander2 tbsp chopped Mint leaves1 tsp Kasuri methi3 tbsp milk2-4 strands of saffronMethod:Wash the rice 4-5 times and soak for 30 mins.—Fry the potatoes in oil and marinate them with curd,spice powders, ginger-garlic paste,coriander, mint and kasuri methi.—Boil a pot of water with salt and the whole spices for 5-7 mins. Add the rice and boil for 5-7 mins or until 70% cooked.—Add ghee in a deep thick bottomed vessel. Add sliced onions and brown them. Remove half of it and keep aside for future use.—Add the tomatoes and cook them well. Add the potato mixture and cook till the oil starts separating.Meanwhile, warm 3tbsp milk and add a few strands of saffron to it.—Layer the cooked rice on top of this. Add the fried onion, chopped coriander, mint leaves and half a cup of the rice water. Add the milk and saffron mixture.—Cover the vessel with aluminium foil and put the lid on and cook for 20 mins on very low flame.—Switch off the flame after 20 mins, and let it rest for 5 mins.—Serve hot with raitha!#foodrush #biryani #vegetarianrecipes #rice #potato\n",
      "*********************************************************************************************************************\n",
      "\n",
      "Beautifully crumbly on the outside with a tender paneer interior, this dish is going to be your new favourite starter !Tag all paneer lovers here!Ingredients:3 boiled and grated potatoes¾ cup boiled and crushed green peas¼ tsp garam masala1 tbsp coriander chutney1 cup breadcrumbs2 tbsp chopped coriander2 tbsp chopped onion1.5 tsp salt1.5 tbsp garlic-green chilli paste100 g paneerFor coating:4 tbsp refined flour2 tbsp cornflour½ tsp salt½ cup breadcrumbsMethod:Mix together potatoes,peas,garlic-green chilli paste,chutney,garam masala,coriander,breadcrumbs ,onion, and salt and bring it together like a dough.—Insert a chunk of paneer on an icecream stick and cover it with the mixture. Freeze for 20 mins.—Mix together refined flour,cornflour, salt and water to form a paste. —Dip the lollipop in the paste, then coat with breadcrumbs.—Fry on medium flame till golden brown.—Serve hot with ketchup!#foodrush #lollipop #chutney #paneer #appetizer\n",
      "*********************************************************************************************************************\n",
      "\n",
      "Strawberry Rose Tarts (without oven)These dainty little rose tartlets are going to make your loved ones go WOW ! Happy Valentine’s Day ! Ingredients:100 g Refined flour50g Salted Butter(Cold)4 tbsp Powdered Sugar2 tbsp Water(Cold) ½ cup Whipping Cream1 Kiwi8 StrawberriesMethod:Mix refined flour and sugar together.Add the cold butter and distribute the butter evenly through the flour using your fingertips.—Add water and bring it together to a dough. The dough will have cracks in it, but thats ok. Do not knead the dough. Refrigerate it for 30 mins.—After 30 mins, roll it out to ¼ cm thickness. Cut out roundels, place them into cupcake liners or tart moulds.—Pre-heat a kadhai for 5-7 minutes on medium flame and place the tarts in. Bake for 10-12 minutes on medium flame or until done. Let it cool and then remove from mould.—Cut strawberries into roses as indicated in the video. —Add a dollop of whipped cream to the tart shells. You could also use cooled custard instead of whipped cream. Arrange the kiwi pieces and the strawberry rose. —Adore it's beauty and gift it to your Valentine! :) #foodrush #strawberry #desserts #sweet #valentinesday2020 #egglessbaking\n",
      "*********************************************************************************************************************\n",
      "\n",
      "Lachha Parantha With Masaledar Bhindi 😍I have made a small recipe video also for bhindi and Laccha prantha. Will post shortly.You like this combo ?#Dilsefoodie #bhindi #parantha\n",
      "*********************************************************************************************************************\n",
      "\n",
      "World's Biggest Appe In NagpurWatch Full Video On YouTube ChannelDilsefoodie Official#Dilsefoodie #nagpur #foodie\n",
      "*********************************************************************************************************************\n",
      "\n",
      "I swear iss time ye feeling aarahi hai ki bas ye Coronavirus Situation thik ho jaye aur mai dubara amritsar chala jau 😭...Comment Below Where You Wanna Go When This Situation Get Over ? #Dilsefoodie #amritsar\n",
      "*********************************************************************************************************************\n",
      "\n",
      "21 Days Lockdown Completely In India Please Don't Go Outside And Take This Seriously If You Really Care For Your Family And Nation 🙏. Here are the list of Essential Services that will remain open.Please Share This List To Your Loved Onces #Dilsefoodie #instagram #narendramodi #primeminister #india #lockdown #jantacurfew\n",
      "*********************************************************************************************************************\n",
      "\n",
      "Lockdown In Home 😏.Lekin Kab Tak 😭😭😭😭😭.I am really missing my favourite places to go for lunch or dinner with my friends 😭. Okay So Tell Me When We Get Over From ThisWhere You Wanna Go First And Whom ?Tag That Place And That Person.#Dilsefoodie #food #coronacovid19 #godisgood #saveus\n",
      "*********************************************************************************************************************\n",
      "\n",
      "The Original Japani Samosa (Satpura) From Beera Sweets, Amritsar#Dilsefoodie\n",
      "*********************************************************************************************************************\n",
      "\n",
      "It's really good to see people supporting this initiative by @narendramodi (Our Prime Minister). Are You Supporting ?#coronacovid19 #jantacurfew #Dilsefoodie\n",
      "*********************************************************************************************************************\n",
      "\n",
      "Nagpur's Famous Kulhad Chaat At SAI CHAAT VADA. Amazing Stuff We Had Here This Kulhad Chaat And Banaras Chaat 😁.Thank You @parthbajaj  For Recommending This Place 😁. Full Video Is Out On YouTube Channel Watch #Dilsefoodie #nagpur #food\n",
      "*********************************************************************************************************************\n",
      "\n",
      "We had this amazing meal at 9 To 9, Patel Nagar Red Light Opposite Siddhartha Hotel.. Sardar Satnam Singh Ji is a genius and he make some amazing Omelettes + Maggie's Watch Full Episode On YouTube Channel #Dilsefoodie #patelnagar #food #omelete\n",
      "*********************************************************************************************************************\n",
      "\n",
      "Road Side Gulab Jamun ♥️ 20Rs Ke 9 Gulab Jamun 😂. ..I wish bade wale gulab jamun bhi itne he saste hote. Kitne Khaa Sakte Ho Ye Wale ? #Dilsefoodie #gulabjamun #amritsar\n",
      "*********************************************************************************************************************\n",
      "\n",
      "Yesterday, we lost a great chef to COVID-19. RIP chef Floyd Cardoz. 💔.The world renowned chef Cardoz was the man behind successful 'Bombay Canteen', 'O Pedro' and 'Bombay Sweet Shop' in Mumbai and 'Tabla’ in New York..He is among the few Indian born chefs to leave a mark on the American dining scene. He is credited for elevating Indian cuisine beyond the traditional curries by marrying regional Indian cuisine with French and American flavors..A pioneer in his field and an amazing warm hearted soul, Cordoz has left behind a beautiful culinary legacy. He will truly be missed in the times to come..Source: rediff\n",
      "*********************************************************************************************************************\n",
      "\n",
      "#TalkDrinks #5EasyCocktailsToMakeAtHome.The #lockdown got your bored AF? We have you covered! .Fix yourself a delish cocktail, sign up your friends on the @houseparty app and celebrate #CocktailDay. 🍹🍸.Sure you can’t meet your friends in person but you can still hangout and play games  with them. Heads Up or Cards Against Humanity, what will it be?.#stayhome #staysafe and let the games beGIN!\n",
      "*********************************************************************************************************************\n",
      "\n",
      "Anyone else feeling like this self isolation is turning into a snackation? 🍿🍩🍪🐷\n",
      "*********************************************************************************************************************\n",
      "\n",
      "#TalkRecipe #PenneVodka.When #jantacurfew calls and you can’t Big Chill… why not recreate your favourite dish at home instead?.The simplest recipe of all time all you need is Vodka. Happy carb loading!\n",
      "*********************************************************************************************************************\n",
      "\n",
      "#TalkDrinks #GinOfTheMonth.Our old friend @bombaysapphireuk  is here with a bold new gin for you- the Bombay Bramble. Inspired by the classic Bramble cocktail, this colourful gin is packed with flavours of Blackberry & Raspberry- sounds delicious right?.A first in terms of flavoured gins by the brand, this gin comes with a gorgeous crimson hue and a ‘real’ fruit infusion to add a zing to your classic G&T! ..Hitting the shelves in UK and Germany soon!.Head to @ginexplorersclub for everything Gin!\n",
      "*********************************************************************************************************************\n",
      "\n",
      "Throwback to The @ginexplorersclub , 2 Days filled with the finest selection of International & Indian Gins, a fabulous music Line-up, food from some of the best restaurants in Delhi along with some fun interactive tasting sessions & so much more!Thank you, Delhi for this gin-credible weekend at India's Biggest Gin Festival!\n",
      "*********************************************************************************************************************\n",
      "\n",
      "#TalkRecommends #RavioliDayYour quest for the best ravioli ends here! Save this list (shared in no particular order of preference) for LATER. For now #stayhome #staysafe .📍The Pasta Bowl Company📍The Big Chill Cafe📍Cafe Diva📍San Gimignano, The Imperial📍La Piazza, Hyatt Regency.Tag your pasta loving friend. @thepastabowlcompany @divarestaurants.📸: Budget Bytes\n",
      "*********************************************************************************************************************\n",
      "\n",
      "Are you into unusual ice cream flavours?Tamagoyaki-flavoured popsicle is an OG take on the Japanese sushi staple.Tamagoyaki-flavoured outer coating with bits of hidden omelette inside, meant to be enjoyed with soy sauce or ketchup.Would you like to try some?.📸: timeout flavourtag\n",
      "*********************************************************************************************************************\n",
      "\n",
      "#TalkChef #RadhikaKhandelwalA culinary genius, Radhika Khandelwal is the founder of Delhi’s first sustainable restaurant Fig & Maple. (Also, Delhi’s favourite brunch spot)Originally destined to become a hair stylist, she had a change of heart by working in kitchens of great Australian chefs.An eco warrior, Radhika runs a zero waste kitchen and likes to put the spotlight on fresh local ingredients, something she picked up from her stint in Australia. The seasonal menu at Fig and Maple resonates her philosophy.Here’s a shout out to the tastemaker! @pandoodle.📸: @figandmapledelhi\n",
      "*********************************************************************************************************************\n",
      "\n",
      "Today’s special: Quarantini 🍸😷.How are you dealing with the Corona isolation?\n",
      "*********************************************************************************************************************\n",
      "\n"
     ]
    }
   ],
   "source": [
    "for i in content:\n",
    "    print(i)\n",
    "    print('*********************************************************************************************************************')\n",
    "    print()"
   ]
  },
  {
   "cell_type": "markdown",
   "metadata": {},
   "source": [
    "## 2) Prepare a list of all words used in all the scraped posts and calculate the frequency of each word."
   ]
  },
  {
   "cell_type": "code",
   "execution_count": 40,
   "metadata": {},
   "outputs": [],
   "source": [
    "# now i am considering that \"words\" mean hashtags because there will be no point in getting the frequencies of all the\n",
    "# words in the content\n",
    "# converting hashtags list to numpy array\n",
    "hashtags=np.array(hashtags)\n",
    "hash_tags=[] #it will contain only hashtags and all the usernames are filtered from the hashtags array\n",
    "for i in hashtags:\n",
    "    if not i[0]=='@' and i!='':\n",
    "        hash_tags.append(i)"
   ]
  },
  {
   "cell_type": "code",
   "execution_count": 41,
   "metadata": {},
   "outputs": [
    {
     "data": {
      "text/plain": [
       "{'#didnti': 1,\n",
       " '#music': 1,\n",
       " '#nationalpuppyday': 1,\n",
       " '#meatballs': 1,\n",
       " '#food': 8,\n",
       " '#foodgod': 2,\n",
       " '#😋': 1,\n",
       " '#meatball': 1,\n",
       " '#delicious': 4,\n",
       " '#dinner': 1,\n",
       " '#yummy': 3,\n",
       " '#yumm': 1,\n",
       " '#sharingiscaring': 1,\n",
       " '#cake': 1,\n",
       " '#dessertoftheday': 1,\n",
       " '#dessertheaven': 1,\n",
       " '#foodlovers': 1,\n",
       " '#dessertlover': 1,\n",
       " '#sweettooth': 1,\n",
       " '#cakelover': 1,\n",
       " '#abominación': 1,\n",
       " '#Ad21': 1,\n",
       " '#ThatsNuts': 1,\n",
       " '#f4f': 1,\n",
       " '#sdv': 1,\n",
       " '#followme': 4,\n",
       " '#foodrush': 10,\n",
       " '#appetizer': 2,\n",
       " '#chinesefood': 2,\n",
       " '#spicy': 1,\n",
       " '#easyrecipes': 2,\n",
       " '#bread': 1,\n",
       " '#schezwan': 1,\n",
       " '#holi': 1,\n",
       " '#sweet': 2,\n",
       " '#dryfruits': 1,\n",
       " '#traditionalfood': 1,\n",
       " '#festivalofcolours': 1,\n",
       " '#pasta': 3,\n",
       " '#spinach': 1,\n",
       " '#spinachpasta': 1,\n",
       " '#veggiepasta': 1,\n",
       " '#palak': 1,\n",
       " '#pastarecipe': 1,\n",
       " '#greenpasta': 1,\n",
       " '#panipuri': 1,\n",
       " '#streetfoodofindia': 1,\n",
       " '#chaat': 1,\n",
       " '#noodles': 1,\n",
       " '#garlic': 1,\n",
       " '#fenugreek': 1,\n",
       " '#creamy': 1,\n",
       " '#peas': 1,\n",
       " '#desikhana': 1,\n",
       " '#punjabi': 1,\n",
       " '#dosa': 1,\n",
       " '#southindianfood': 1,\n",
       " '#cheese': 3,\n",
       " '#streetfood': 1,\n",
       " '#biryani': 1,\n",
       " '#vegetarianrecipes': 1,\n",
       " '#rice': 1,\n",
       " '#potato': 1,\n",
       " '#lollipop': 1,\n",
       " '#chutney': 1,\n",
       " '#paneer': 1,\n",
       " '#strawberry': 1,\n",
       " '#desserts': 1,\n",
       " '#valentinesday2020': 1,\n",
       " '#egglessbaking': 1,\n",
       " '#Dilsefoodie': 10,\n",
       " '#bhindi': 1,\n",
       " '#parantha': 1,\n",
       " '#nagpur': 2,\n",
       " '#foodie': 8,\n",
       " '#amritsar': 2,\n",
       " '#instagram': 1,\n",
       " '#narendramodi': 1,\n",
       " '#primeminister': 1,\n",
       " '#india': 1,\n",
       " '#lockdown': 2,\n",
       " '#jantacurfew': 3,\n",
       " '#coronacovid19': 2,\n",
       " '#godisgood': 1,\n",
       " '#saveus': 1,\n",
       " '#patelnagar': 1,\n",
       " '#omelete': 1,\n",
       " '#gulabjamun': 1,\n",
       " '#TalkDrinks': 2,\n",
       " '#5EasyCocktailsToMakeAtHome': 1,\n",
       " '#CocktailDay': 1,\n",
       " '#stayhome': 2,\n",
       " '#staysafe': 4,\n",
       " '#foodtalk': 7,\n",
       " '#foodtalkindia': 5,\n",
       " '#worldcocktailday': 1,\n",
       " '#cocktails': 2,\n",
       " '#cocktailguide': 2,\n",
       " '#delhinightlife': 1,\n",
       " '#cocktailbars': 1,\n",
       " '#cocktailtime': 1,\n",
       " '#cocktailsofinstagram': 1,\n",
       " '#cocktailworld': 1,\n",
       " '#cocktailoftheday': 1,\n",
       " '#cocktailcalories': 1,\n",
       " '#calorieguide': 1,\n",
       " '#stayhappy': 2,\n",
       " '#wfh': 2,\n",
       " '#workfromhome': 2,\n",
       " '#socialdistancing': 2,\n",
       " '#moscowmule': 1,\n",
       " '#gimlet': 1,\n",
       " '#instagood': 5,\n",
       " '#instalike': 3,\n",
       " '#igers': 4,\n",
       " '#bestoftheday': 3,\n",
       " '#tweegram': 3,\n",
       " '#isolation': 2,\n",
       " '#snacks': 1,\n",
       " '#overeating': 1,\n",
       " '#TalkRecipe': 1,\n",
       " '#PenneVodka': 1,\n",
       " '#foodporn': 3,\n",
       " '#instafood': 3,\n",
       " '#pizza': 2,\n",
       " '#italianfood': 3,\n",
       " '#foodphotography': 2,\n",
       " '#italy': 2,\n",
       " '#spaghetti': 2,\n",
       " '#italian': 2,\n",
       " '#foodlover': 2,\n",
       " '#homemade': 2,\n",
       " '#foodstagram': 3,\n",
       " '#foodgasm': 2,\n",
       " '#restaurant': 2,\n",
       " '#cooking': 2,\n",
       " '#bigchill': 1,\n",
       " '#penne': 1,\n",
       " '#pastalovers': 1,\n",
       " '#stayhomestaysafe': 1,\n",
       " '#GinOfTheMonth': 1,\n",
       " '#review': 1,\n",
       " '#gin': 1,\n",
       " '#gintonic': 1,\n",
       " '#ginandtonic': 1,\n",
       " '#drinks': 1,\n",
       " '#cocktail': 1,\n",
       " '#drink': 1,\n",
       " '#ginstagram': 1,\n",
       " '#bartender': 1,\n",
       " '#ginlovers': 1,\n",
       " '#bar': 1,\n",
       " '#mixology': 1,\n",
       " '#ginoclock': 1,\n",
       " '#rum': 1,\n",
       " '#whisky': 1,\n",
       " '#wine': 1,\n",
       " '#whiskey': 1,\n",
       " '#cheers': 1,\n",
       " '#tonic': 1,\n",
       " '#ginlover': 1,\n",
       " '#alcohol': 1,\n",
       " '#drinkstagram': 1,\n",
       " '#ilovegin': 1,\n",
       " '#gintime': 1,\n",
       " '#indiangin': 1,\n",
       " '#bombaysapphire': 1,\n",
       " '#TalkRecommends': 1,\n",
       " '#RavioliDay': 1,\n",
       " '#italia': 1,\n",
       " '#love': 1,\n",
       " '#raviolilovers': 1,\n",
       " '#ravioliday': 1,\n",
       " '#instayum': 1,\n",
       " '#travelfoodfood': 1,\n",
       " '#weirdflavours': 1,\n",
       " '#likeforlike': 1,\n",
       " '#unusualicecream': 1,\n",
       " '#garigarikun': 1,\n",
       " '#friedeggpopsicle': 1,\n",
       " '#TalkChef': 1,\n",
       " '#RadhikaKhandelwal': 1,\n",
       " '#delhifoodie': 2,\n",
       " '#chef': 1,\n",
       " '#celebritychef': 1,\n",
       " '#chefspotlight': 1,\n",
       " '#godofcooking': 1,\n",
       " '#indianchef': 1,\n",
       " '#indiancuisine': 1,\n",
       " '#localflavours': 1,\n",
       " '#seasonalproduce': 1,\n",
       " '#italianchef': 1,\n",
       " '#seasonal': 1,\n",
       " '#localproduce': 1,\n",
       " '#sustainablekitchens': 1,\n",
       " '#sustainable': 1,\n",
       " '#covid_19': 1}"
      ]
     },
     "execution_count": 41,
     "metadata": {},
     "output_type": "execute_result"
    }
   ],
   "source": [
    "dic=dict() #this will store the frequencies of all the hashtags\n",
    "for i in hash_tags:\n",
    "    if i in dic.keys():\n",
    "        dic[i]+=1\n",
    "    else:\n",
    "        dic[i]=1\n",
    "dic"
   ]
  },
  {
   "cell_type": "markdown",
   "metadata": {},
   "source": [
    "## 3) Create a csv file with two columns : the word and its frequency"
   ]
  },
  {
   "cell_type": "code",
   "execution_count": 42,
   "metadata": {},
   "outputs": [],
   "source": [
    "# the file will be saved in the current workng directory\n",
    "hash_word=np.array([i[1:] for i in dic.keys()])\n",
    "frequency=np.array([i for i in dic.values()])\n",
    "df=pd.DataFrame()\n",
    "df['Words']=hash_word\n",
    "df['Frequency']=frequency\n",
    "df.to_csv('Word_Frequencies.csv')"
   ]
  },
  {
   "cell_type": "markdown",
   "metadata": {},
   "source": [
    "## 4) Now, find the hashtags that were most popular among these bloggers"
   ]
  },
  {
   "cell_type": "code",
   "execution_count": 43,
   "metadata": {},
   "outputs": [],
   "source": [
    "# arrange the arrays hash_word and frequency in descending order and print them inorder to get the most popular among \n",
    "# them."
   ]
  },
  {
   "cell_type": "code",
   "execution_count": 44,
   "metadata": {},
   "outputs": [
    {
     "name": "stdout",
     "output_type": "stream",
     "text": [
      "Dilsefoodie --- 10 times\n",
      "foodrush --- 10 times\n",
      "food --- 8 times\n",
      "foodie --- 8 times\n",
      "foodtalk --- 7 times\n",
      "foodtalkindia --- 5 times\n",
      "instagood --- 5 times\n",
      "staysafe --- 4 times\n",
      "followme --- 4 times\n",
      "delicious --- 4 times\n",
      "igers --- 4 times\n",
      "foodporn --- 3 times\n",
      "instafood --- 3 times\n",
      "bestoftheday --- 3 times\n",
      "italianfood --- 3 times\n",
      "cheese --- 3 times\n",
      "jantacurfew --- 3 times\n",
      "yummy --- 3 times\n",
      "instalike --- 3 times\n",
      "pasta --- 3 times\n",
      "foodstagram --- 3 times\n",
      "tweegram --- 3 times\n",
      "socialdistancing --- 2 times\n",
      "workfromhome --- 2 times\n",
      "coronacovid19 --- 2 times\n",
      "isolation --- 2 times\n",
      "pizza --- 2 times\n",
      "sweet --- 2 times\n",
      "foodphotography --- 2 times\n",
      "italy --- 2 times\n",
      "cooking --- 2 times\n",
      "restaurant --- 2 times\n",
      "foodgasm --- 2 times\n",
      "homemade --- 2 times\n",
      "foodlover --- 2 times\n",
      "wfh --- 2 times\n",
      "italian --- 2 times\n",
      "stayhappy --- 2 times\n",
      "cocktails --- 2 times\n",
      "nagpur --- 2 times\n",
      "spaghetti --- 2 times\n",
      "stayhome --- 2 times\n",
      "delhifoodie --- 2 times\n",
      "amritsar --- 2 times\n",
      "TalkDrinks --- 2 times\n",
      "cocktailguide --- 2 times\n",
      "appetizer --- 2 times\n",
      "chinesefood --- 2 times\n",
      "foodgod --- 2 times\n",
      "easyrecipes --- 2 times\n",
      "lockdown --- 2 times\n",
      "instagram --- 1 times\n",
      "primeminister --- 1 times\n",
      "india --- 1 times\n",
      "narendramodi --- 1 times\n",
      "biryani --- 1 times\n",
      "parantha --- 1 times\n",
      "vegetarianrecipes --- 1 times\n",
      "rice --- 1 times\n",
      "potato --- 1 times\n",
      "bhindi --- 1 times\n",
      "egglessbaking --- 1 times\n",
      "valentinesday2020 --- 1 times\n",
      "desserts --- 1 times\n",
      "lollipop --- 1 times\n",
      "chutney --- 1 times\n",
      "strawberry --- 1 times\n",
      "paneer --- 1 times\n",
      "covid_19 --- 1 times\n",
      "streetfood --- 1 times\n",
      "dessertheaven --- 1 times\n",
      "sdv --- 1 times\n",
      "f4f --- 1 times\n",
      "ThatsNuts --- 1 times\n",
      "Ad21 --- 1 times\n",
      "abominación --- 1 times\n",
      "cakelover --- 1 times\n",
      "sweettooth --- 1 times\n",
      "dessertlover --- 1 times\n",
      "foodlovers --- 1 times\n",
      "dessertoftheday --- 1 times\n",
      "southindianfood --- 1 times\n",
      "cake --- 1 times\n",
      "sharingiscaring --- 1 times\n",
      "yumm --- 1 times\n",
      "dinner --- 1 times\n",
      "meatball --- 1 times\n",
      "😋 --- 1 times\n",
      "meatballs --- 1 times\n",
      "nationalpuppyday --- 1 times\n",
      "music --- 1 times\n",
      "spicy --- 1 times\n",
      "bread --- 1 times\n",
      "schezwan --- 1 times\n",
      "holi --- 1 times\n",
      "punjabi --- 1 times\n",
      "desikhana --- 1 times\n",
      "peas --- 1 times\n",
      "creamy --- 1 times\n",
      "fenugreek --- 1 times\n",
      "garlic --- 1 times\n",
      "noodles --- 1 times\n",
      "chaat --- 1 times\n",
      "streetfoodofindia --- 1 times\n",
      "panipuri --- 1 times\n",
      "greenpasta --- 1 times\n",
      "pastarecipe --- 1 times\n",
      "palak --- 1 times\n",
      "veggiepasta --- 1 times\n",
      "spinachpasta --- 1 times\n",
      "spinach --- 1 times\n",
      "festivalofcolours --- 1 times\n",
      "traditionalfood --- 1 times\n",
      "dryfruits --- 1 times\n",
      "dosa --- 1 times\n",
      "delhinightlife --- 1 times\n",
      "godisgood --- 1 times\n",
      "whisky --- 1 times\n",
      "instayum --- 1 times\n",
      "ravioliday --- 1 times\n",
      "raviolilovers --- 1 times\n",
      "love --- 1 times\n",
      "italia --- 1 times\n",
      "RavioliDay --- 1 times\n",
      "TalkRecommends --- 1 times\n",
      "bombaysapphire --- 1 times\n",
      "indiangin --- 1 times\n",
      "gintime --- 1 times\n",
      "ilovegin --- 1 times\n",
      "drinkstagram --- 1 times\n",
      "alcohol --- 1 times\n",
      "ginlover --- 1 times\n",
      "tonic --- 1 times\n",
      "cheers --- 1 times\n",
      "whiskey --- 1 times\n",
      "travelfoodfood --- 1 times\n",
      "weirdflavours --- 1 times\n",
      "likeforlike --- 1 times\n",
      "indianchef --- 1 times\n",
      "sustainablekitchens --- 1 times\n",
      "localproduce --- 1 times\n",
      "seasonal --- 1 times\n",
      "italianchef --- 1 times\n",
      "seasonalproduce --- 1 times\n",
      "localflavours --- 1 times\n",
      "indiancuisine --- 1 times\n",
      "godofcooking --- 1 times\n",
      "unusualicecream --- 1 times\n",
      "chefspotlight --- 1 times\n",
      "celebritychef --- 1 times\n",
      "chef --- 1 times\n",
      "RadhikaKhandelwal --- 1 times\n",
      "TalkChef --- 1 times\n",
      "friedeggpopsicle --- 1 times\n",
      "garigarikun --- 1 times\n",
      "wine --- 1 times\n",
      "rum --- 1 times\n",
      "saveus --- 1 times\n",
      "ginoclock --- 1 times\n",
      "snacks --- 1 times\n",
      "gimlet --- 1 times\n",
      "moscowmule --- 1 times\n",
      "calorieguide --- 1 times\n",
      "cocktailcalories --- 1 times\n",
      "cocktailoftheday --- 1 times\n",
      "cocktailworld --- 1 times\n",
      "cocktailsofinstagram --- 1 times\n",
      "cocktailtime --- 1 times\n",
      "cocktailbars --- 1 times\n",
      "sustainable --- 1 times\n",
      "worldcocktailday --- 1 times\n",
      "CocktailDay --- 1 times\n",
      "5EasyCocktailsToMakeAtHome --- 1 times\n",
      "gulabjamun --- 1 times\n",
      "omelete --- 1 times\n",
      "patelnagar --- 1 times\n",
      "overeating --- 1 times\n",
      "TalkRecipe --- 1 times\n",
      "PenneVodka --- 1 times\n",
      "drinks --- 1 times\n",
      "mixology --- 1 times\n",
      "bar --- 1 times\n",
      "ginlovers --- 1 times\n",
      "bartender --- 1 times\n",
      "ginstagram --- 1 times\n",
      "drink --- 1 times\n",
      "cocktail --- 1 times\n",
      "ginandtonic --- 1 times\n",
      "bigchill --- 1 times\n",
      "gintonic --- 1 times\n",
      "gin --- 1 times\n",
      "review --- 1 times\n",
      "GinOfTheMonth --- 1 times\n",
      "stayhomestaysafe --- 1 times\n",
      "pastalovers --- 1 times\n",
      "penne --- 1 times\n",
      "didnti --- 1 times\n"
     ]
    }
   ],
   "source": [
    "hash_word=hash_word[np.argsort(frequency)][::-1]\n",
    "frequency=frequency[np.argsort(frequency)][::-1]\n",
    "for i in range(len(hash_word)):\n",
    "    print(hash_word[i], \"---\", frequency[i], \"times\")"
   ]
  },
  {
   "cell_type": "markdown",
   "metadata": {},
   "source": [
    "## 5) Plot a Pie Chart of the top 5 hashtags obtained and the number of times they were used by these bloggers in the scraped posts."
   ]
  },
  {
   "cell_type": "code",
   "execution_count": 47,
   "metadata": {},
   "outputs": [
    {
     "data": {
      "image/png": "[encoded data removed]",
      "text/plain": [
       "<Figure size 792x792 with 1 Axes>"
      ]
     },
     "metadata": {},
     "output_type": "display_data"
    }
   ],
   "source": [
    "x=hash_word[:5]\n",
    "y=frequency[:5]\n",
    "plt.figure(figsize=(11, 11))\n",
    "plt.pie(y, labels=x, autopct='%.2f%%')\n",
    "plt.title('Pie Chart of top 5 hashtags')\n",
    "plt.show()"
   ]
  },
  {
   "cell_type": "markdown",
   "metadata": {},
   "source": [
    "# 3. You need to also calculate average followers : likes ratio for the obtained handles.\n",
    "# Followers : Likes ratio is calculated as follows:\n",
    "## 1) Find out the likes of the top 10 posts of the 5 handles obtained earlier."
   ]
  },
  {
   "cell_type": "code",
   "execution_count": 48,
   "metadata": {},
   "outputs": [],
   "source": [
    "# return to home page\n",
    "home_btn = driver.find_element_by_xpath('//div[contains(@class,\"Fifk5\")]/div/a')\n",
    "home_btn.click()"
   ]
  },
  {
   "cell_type": "code",
   "execution_count": 49,
   "metadata": {},
   "outputs": [
    {
     "name": "stdout",
     "output_type": "stream",
     "text": [
      "foodys--> total 1311650 likes on 10 latest posts\n",
      "foodgod--> total 1592550 likes on 10 latest posts\n",
      "foodrush.recipe--> total 1340170 likes on 10 latest posts\n",
      "dilsefoodie--> total 39800 likes on 10 latest posts\n",
      "foodtalkindia--> total 9890 likes on 10 latest posts\n"
     ]
    }
   ],
   "source": [
    "likes=[] # store the likes of top 10 posts of the top 5 handles obtained earlier\n",
    "\n",
    "for user in top_5:\n",
    "    print(user, end='--> ')\n",
    "    wait = WebDriverWait(driver,10)\n",
    "    search_bar_icon = wait.until(EC.presence_of_element_located((By.XPATH,\"//div[contains(@class,'_0aCwM')]/div/div/span\")))\n",
    "    search_bar_icon.click()\n",
    "\n",
    "    wait = WebDriverWait(driver,10)\n",
    "    clear_search_content = wait.until(EC.presence_of_element_located((By.XPATH,\"//div[contains(@class,'coreSpriteSearchClear')]\")))\n",
    "    clear_search_content.click()\n",
    "    \n",
    "    wait = WebDriverWait(driver,10)\n",
    "    search_bar = wait.until(EC.presence_of_element_located((By.XPATH,\"//input[contains(@class,'x3qfX')]\")))\n",
    "    search_bar.send_keys(user)\n",
    "    \n",
    "    wait = WebDriverWait(driver,10)\n",
    "    first_suggestion = wait.until(EC.presence_of_element_located((By.XPATH,\"//div[@class='fuqBx']/a/div/div[2]/div/span\")))\n",
    "    first_suggestion.click()\n",
    "    \n",
    "    count = 0 # for maintaining the count of no. of posts\n",
    "    no_of_likes = 0 # for maintaning the count of no. of likes\n",
    "    \n",
    "    wait = WebDriverWait(driver,20)\n",
    "    first_post_photo = wait.until(EC.presence_of_element_located((By.XPATH,\"//div[@class=' _2z6nI']/article/div/div/div/div/a/div/div[2]\")))\n",
    "    first_post_photo.click()\n",
    "    \n",
    "    while True:\n",
    "        try:\n",
    "            WebDriverWait(driver, 5).until(EC.presence_of_element_located((By.XPATH, '//div[@class=\"Nm9Fw\"]/button[contains(@class, \"_8A5w5\")]/span')))\n",
    "            no_of_likes+=int(\"\".join(driver.find_element_by_xpath('//div[@class=\"Nm9Fw\"]/button[contains(@class, \"_8A5w5\")]/span').get_attribute('innerHTML').split(',')))\n",
    "        except TimeoutException:\n",
    "            WebDriverWait(driver, 5).until(EC.presence_of_element_located((By.XPATH, '//div[contains(@class, \"HbPOm\")]/span[contains(@class, \"vcOH2\")]/span')))\n",
    "            no_of_likes+=int(\"\".join(driver.find_element_by_xpath('//div[contains(@class, \"HbPOm\")]/span[contains(@class, \"vcOH2\")]/span').get_attribute('innerHTML').split(',')))\n",
    "        count+=1\n",
    "        if count>=10:\n",
    "            break\n",
    "        wait = WebDriverWait(driver,20)\n",
    "        next_post_button = wait.until(EC.presence_of_element_located((By.XPATH,\"//a[contains(@class,'coreSpriteRightPaginationArrow')]\")))\n",
    "    \n",
    "    time.sleep(2)\n",
    "    close_button = driver.find_element_by_class_name('yiMZG')\n",
    "    close_button.click()\n",
    "    print(\"total\", no_of_likes, \"likes on 10 latest posts\")\n",
    "    likes.append(no_of_likes)"
   ]
  },
  {
   "cell_type": "code",
   "execution_count": 50,
   "metadata": {},
   "outputs": [
    {
     "data": {
      "text/plain": [
       "array(['foodys', 'foodgod', 'foodrush.recipe', 'dilsefoodie',\n",
       "       'foodtalkindia'], dtype='<U15')"
      ]
     },
     "execution_count": 50,
     "metadata": {},
     "output_type": "execute_result"
    }
   ],
   "source": [
    "top_5=np.array(top_5)\n",
    "top_5"
   ]
  },
  {
   "cell_type": "code",
   "execution_count": 51,
   "metadata": {},
   "outputs": [
    {
     "data": {
      "text/plain": [
       "array([1311650, 1592550, 1340170,   39800,    9890])"
      ]
     },
     "execution_count": 51,
     "metadata": {},
     "output_type": "execute_result"
    }
   ],
   "source": [
    "likes=np.array(likes)\n",
    "likes"
   ]
  },
  {
   "cell_type": "code",
   "execution_count": 54,
   "metadata": {},
   "outputs": [
    {
     "data": {
      "text/plain": [
       "array([9600000, 3500000,  660000,  370000,  292000])"
      ]
     },
     "execution_count": 54,
     "metadata": {},
     "output_type": "execute_result"
    }
   ],
   "source": [
    "followers[0:5] #followers of those 5 users"
   ]
  },
  {
   "cell_type": "markdown",
   "metadata": {},
   "source": [
    "## 2) Calculate the average likes for a handle."
   ]
  },
  {
   "cell_type": "code",
   "execution_count": 55,
   "metadata": {},
   "outputs": [
    {
     "data": {
      "text/plain": [
       "array([131165., 159255., 134017.,   3980.,    989.])"
      ]
     },
     "execution_count": 55,
     "metadata": {},
     "output_type": "execute_result"
    }
   ],
   "source": [
    "average_likes=likes/10\n",
    "average_likes"
   ]
  },
  {
   "cell_type": "markdown",
   "metadata": {},
   "source": [
    "## 3) Divide the average likes obtained from the number of followers of the handle to get the average followers:like ratio of each handle."
   ]
  },
  {
   "cell_type": "code",
   "execution_count": 56,
   "metadata": {},
   "outputs": [
    {
     "data": {
      "text/plain": [
       "array([ 73.19025655,  21.97733195,   4.92474835,  92.96482412,\n",
       "       295.24772497])"
      ]
     },
     "execution_count": 56,
     "metadata": {},
     "output_type": "execute_result"
    }
   ],
   "source": [
    "# followers to likes ratio\n",
    "ratio=followers[0:5]/average_likes\n",
    "ratio"
   ]
  },
  {
   "cell_type": "markdown",
   "metadata": {},
   "source": [
    "## 4) Create a bar graph to depict the above obtained information."
   ]
  },
  {
   "cell_type": "code",
   "execution_count": 58,
   "metadata": {},
   "outputs": [
    {
     "data": {
      "image/png": "[encoded data removed]",
      "text/plain": [
       "<Figure size 720x504 with 1 Axes>"
      ]
     },
     "metadata": {
      "needs_background": "light"
     },
     "output_type": "display_data"
    }
   ],
   "source": [
    "#plotting the graph between average followers to the likes ratio and users.\n",
    "plt.figure(figsize=(10,7))\n",
    "plt.bar(top_5, ratio,color='r')\n",
    "plt.xticks(rotation=30, size=12)\n",
    "plt.xlabel('Users', size=12)\n",
    "plt.ylabel('Average followers to likes ratio', size=12)\n",
    "plt.yticks(size=12)\n",
    "plt.show()"
   ]
  }
 ],
 "metadata": {
  "kernelspec": {
   "display_name": "Python 3",
   "language": "python",
   "name": "python3"
  },
  "language_info": {
   "codemirror_mode": {
    "name": "ipython",
    "version": 3
   },
   "file_extension": ".py",
   "mimetype": "text/x-python",
   "name": "python",
   "nbconvert_exporter": "python",
   "pygments_lexer": "ipython3",
   "version": "3.7.6"
  }
 },
 "nbformat": 4,
 "nbformat_minor": 2
}
